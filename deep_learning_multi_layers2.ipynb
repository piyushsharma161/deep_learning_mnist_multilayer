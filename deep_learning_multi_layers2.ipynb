{
 "cells": [
  {
   "cell_type": "code",
   "execution_count": 4,
   "metadata": {
    "collapsed": false
   },
   "outputs": [],
   "source": [
    "import tensorflow as tf\n",
    "import pandas as pd\n",
    "import numpy as np\n",
    "import matplotlib.pyplot as plt\n",
    "%matplotlib inline"
   ]
  },
  {
   "cell_type": "code",
   "execution_count": 5,
   "metadata": {
    "collapsed": true
   },
   "outputs": [],
   "source": [
    "from tensorflow.examples.tutorials.mnist import input_data"
   ]
  },
  {
   "cell_type": "code",
   "execution_count": 6,
   "metadata": {
    "collapsed": false
   },
   "outputs": [
    {
     "name": "stdout",
     "output_type": "stream",
     "text": [
      "Extracting tf_class/MNIST_data/train-images-idx3-ubyte.gz\n",
      "Extracting tf_class/MNIST_data/train-labels-idx1-ubyte.gz\n",
      "Extracting tf_class/MNIST_data/t10k-images-idx3-ubyte.gz\n",
      "Extracting tf_class/MNIST_data/t10k-labels-idx1-ubyte.gz\n"
     ]
    }
   ],
   "source": [
    "# Extracting the mnist datasets\n",
    "mnist = input_data.read_data_sets('tf_class/MNIST_data/', one_hot=True)"
   ]
  },
  {
   "cell_type": "code",
   "execution_count": 7,
   "metadata": {
    "collapsed": false
   },
   "outputs": [
    {
     "data": {
      "text/plain": [
       "array([[0.        , 0.        , 0.        , 0.        , 0.        ,\n",
       "        0.        , 0.        , 0.        , 0.        , 0.        ,\n",
       "        0.        , 0.        , 0.        , 0.        , 0.        ,\n",
       "        0.        , 0.        , 0.        , 0.        , 0.        ,\n",
       "        0.        , 0.        , 0.        , 0.        , 0.        ,\n",
       "        0.        , 0.        , 0.        ],\n",
       "       [0.        , 0.        , 0.        , 0.        , 0.        ,\n",
       "        0.        , 0.        , 0.        , 0.        , 0.        ,\n",
       "        0.        , 0.        , 0.        , 0.        , 0.        ,\n",
       "        0.        , 0.        , 0.        , 0.        , 0.        ,\n",
       "        0.        , 0.        , 0.        , 0.        , 0.        ,\n",
       "        0.        , 0.        , 0.        ],\n",
       "       [0.        , 0.        , 0.        , 0.        , 0.        ,\n",
       "        0.        , 0.        , 0.        , 0.        , 0.        ,\n",
       "        0.        , 0.        , 0.        , 0.        , 0.        ,\n",
       "        0.        , 0.        , 0.        , 0.        , 0.        ,\n",
       "        0.        , 0.        , 0.        , 0.        , 0.        ,\n",
       "        0.        , 0.        , 0.        ],\n",
       "       [0.        , 0.        , 0.        , 0.        , 0.        ,\n",
       "        0.        , 0.        , 0.        , 0.        , 0.        ,\n",
       "        0.        , 0.        , 0.        , 0.        , 0.        ,\n",
       "        0.        , 0.        , 0.        , 0.        , 0.        ,\n",
       "        0.        , 0.        , 0.        , 0.        , 0.        ,\n",
       "        0.        , 0.        , 0.        ],\n",
       "       [0.        , 0.        , 0.        , 0.        , 0.        ,\n",
       "        0.        , 0.        , 0.        , 0.        , 0.        ,\n",
       "        0.        , 0.        , 0.        , 0.        , 0.        ,\n",
       "        0.        , 0.        , 0.        , 0.        , 0.        ,\n",
       "        0.        , 0.        , 0.        , 0.        , 0.        ,\n",
       "        0.        , 0.        , 0.        ],\n",
       "       [0.        , 0.        , 0.        , 0.        , 0.        ,\n",
       "        0.        , 0.        , 0.        , 0.        , 0.        ,\n",
       "        0.        , 0.        , 0.        , 0.        , 0.        ,\n",
       "        0.        , 0.        , 0.        , 0.        , 0.        ,\n",
       "        0.        , 0.        , 0.        , 0.        , 0.        ,\n",
       "        0.        , 0.        , 0.        ],\n",
       "       [0.        , 0.        , 0.        , 0.        , 0.        ,\n",
       "        0.        , 0.        , 0.        , 0.        , 0.        ,\n",
       "        0.        , 0.        , 0.20000002, 0.20000002, 0.6784314 ,\n",
       "        0.9921569 , 0.9960785 , 0.8352942 , 0.7568628 , 0.59607846,\n",
       "        0.16078432, 0.        , 0.        , 0.        , 0.        ,\n",
       "        0.        , 0.        , 0.        ],\n",
       "       [0.        , 0.        , 0.        , 0.        , 0.        ,\n",
       "        0.        , 0.        , 0.        , 0.        , 0.        ,\n",
       "        0.08235294, 0.5568628 , 0.9921569 , 0.98823535, 0.9921569 ,\n",
       "        0.98823535, 0.9921569 , 0.98823535, 0.9921569 , 0.98823535,\n",
       "        0.7960785 , 0.31764707, 0.        , 0.        , 0.        ,\n",
       "        0.        , 0.        , 0.        ],\n",
       "       [0.        , 0.        , 0.        , 0.        , 0.        ,\n",
       "        0.        , 0.        , 0.        , 0.        , 0.08235294,\n",
       "        0.9960785 , 0.9921569 , 0.9960785 , 0.9921569 , 0.9960785 ,\n",
       "        0.8352942 , 0.7960785 , 0.7960785 , 0.7960785 , 0.95294124,\n",
       "        0.9960785 , 0.8352942 , 0.24313727, 0.        , 0.        ,\n",
       "        0.        , 0.        , 0.        ],\n",
       "       [0.        , 0.        , 0.        , 0.        , 0.        ,\n",
       "        0.        , 0.        , 0.        , 0.        , 0.5568628 ,\n",
       "        0.9921569 , 0.98823535, 0.6745098 , 0.19607845, 0.19607845,\n",
       "        0.03921569, 0.        , 0.        , 0.        , 0.4784314 ,\n",
       "        0.9921569 , 0.98823535, 0.63529414, 0.2392157 , 0.        ,\n",
       "        0.        , 0.        , 0.        ],\n",
       "       [0.        , 0.        , 0.        , 0.        , 0.        ,\n",
       "        0.        , 0.        , 0.        , 0.        , 0.48235297,\n",
       "        0.9960785 , 0.75294125, 0.        , 0.        , 0.        ,\n",
       "        0.16078432, 0.28235295, 0.59607846, 0.9960785 , 0.9921569 ,\n",
       "        0.9960785 , 0.9921569 , 1.        , 0.9921569 , 1.        ,\n",
       "        0.6745098 , 0.        , 0.        ],\n",
       "       [0.        , 0.        , 0.        , 0.        , 0.        ,\n",
       "        0.        , 0.        , 0.        , 0.        , 0.31764707,\n",
       "        0.9921569 , 0.909804  , 0.16078432, 0.16078432, 0.6392157 ,\n",
       "        0.95294124, 0.9921569 , 0.98823535, 0.9921569 , 0.98823535,\n",
       "        0.9921569 , 0.98823535, 0.9921569 , 0.98823535, 0.9921569 ,\n",
       "        0.5137255 , 0.        , 0.        ],\n",
       "       [0.        , 0.        , 0.        , 0.        , 0.        ,\n",
       "        0.        , 0.        , 0.        , 0.        , 0.        ,\n",
       "        0.6784314 , 0.9921569 , 0.9960785 , 0.9921569 , 0.9960785 ,\n",
       "        0.9921569 , 0.9960785 , 0.9921569 , 0.7960785 , 0.7960785 ,\n",
       "        0.9176471 , 0.91372555, 0.40000004, 0.07843138, 0.        ,\n",
       "        0.        , 0.        , 0.        ],\n",
       "       [0.        , 0.        , 0.        , 0.        , 0.        ,\n",
       "        0.        , 0.        , 0.        , 0.        , 0.32156864,\n",
       "        0.8352942 , 0.98823535, 0.9921569 , 0.98823535, 0.9921569 ,\n",
       "        0.98823535, 0.35686275, 0.19607845, 0.        , 0.        ,\n",
       "        0.59607846, 0.27450982, 0.        , 0.        , 0.        ,\n",
       "        0.        , 0.        , 0.        ],\n",
       "       [0.        , 0.        , 0.        , 0.        , 0.        ,\n",
       "        0.        , 0.        , 0.        , 0.36078432, 0.91372555,\n",
       "        0.9960785 , 0.9921569 , 0.9960785 , 0.9921569 , 0.9960785 ,\n",
       "        0.6745098 , 0.08235294, 0.        , 0.        , 0.        ,\n",
       "        0.        , 0.        , 0.        , 0.        , 0.        ,\n",
       "        0.        , 0.        , 0.        ],\n",
       "       [0.        , 0.        , 0.        , 0.        , 0.        ,\n",
       "        0.        , 0.        , 0.32156864, 0.91372555, 0.98823535,\n",
       "        0.91372555, 0.5921569 , 0.19607845, 0.6745098 , 0.9921569 ,\n",
       "        0.98823535, 0.5568628 , 0.        , 0.        , 0.        ,\n",
       "        0.        , 0.        , 0.        , 0.        , 0.        ,\n",
       "        0.        , 0.        , 0.        ],\n",
       "       [0.        , 0.        , 0.        , 0.        , 0.        ,\n",
       "        0.        , 0.04313726, 0.8352942 , 0.9960785 , 0.9921569 ,\n",
       "        0.6392157 , 0.        , 0.        , 0.        , 0.32156864,\n",
       "        0.8745099 , 0.9960785 , 0.5137255 , 0.        , 0.        ,\n",
       "        0.        , 0.        , 0.        , 0.        , 0.        ,\n",
       "        0.        , 0.        , 0.        ],\n",
       "       [0.        , 0.        , 0.        , 0.        , 0.        ,\n",
       "        0.        , 0.36078432, 0.98823535, 0.9921569 , 0.50980395,\n",
       "        0.40000004, 0.2392157 , 0.        , 0.        , 0.        ,\n",
       "        0.5568628 , 0.9921569 , 0.8313726 , 0.        , 0.        ,\n",
       "        0.        , 0.        , 0.        , 0.        , 0.        ,\n",
       "        0.        , 0.        , 0.        ],\n",
       "       [0.        , 0.        , 0.        , 0.        , 0.        ,\n",
       "        0.        , 0.7568628 , 0.9921569 , 0.6392157 , 0.07843138,\n",
       "        0.        , 0.        , 0.        , 0.        , 0.        ,\n",
       "        0.5568628 , 0.9960785 , 0.8352942 , 0.        , 0.        ,\n",
       "        0.        , 0.        , 0.        , 0.        , 0.        ,\n",
       "        0.        , 0.        , 0.        ],\n",
       "       [0.        , 0.        , 0.        , 0.        , 0.        ,\n",
       "        0.        , 0.7568628 , 0.98823535, 0.2392157 , 0.        ,\n",
       "        0.        , 0.        , 0.        , 0.        , 0.        ,\n",
       "        0.5568628 , 0.9921569 , 0.8313726 , 0.        , 0.        ,\n",
       "        0.        , 0.        , 0.        , 0.        , 0.        ,\n",
       "        0.        , 0.        , 0.        ],\n",
       "       [0.        , 0.        , 0.        , 0.        , 0.        ,\n",
       "        0.        , 0.6784314 , 0.9921569 , 0.32156864, 0.        ,\n",
       "        0.        , 0.        , 0.        , 0.        , 0.4431373 ,\n",
       "        0.91372555, 0.87843144, 0.2392157 , 0.        , 0.        ,\n",
       "        0.        , 0.        , 0.        , 0.        , 0.        ,\n",
       "        0.        , 0.        , 0.        ],\n",
       "       [0.        , 0.        , 0.        , 0.        , 0.        ,\n",
       "        0.        , 0.6745098 , 0.98823535, 0.32156864, 0.        ,\n",
       "        0.        , 0.        , 0.        , 0.        , 0.8352942 ,\n",
       "        0.98823535, 0.95294124, 0.15686275, 0.        , 0.        ,\n",
       "        0.        , 0.        , 0.        , 0.        , 0.        ,\n",
       "        0.        , 0.        , 0.        ],\n",
       "       [0.        , 0.        , 0.        , 0.        , 0.        ,\n",
       "        0.        , 0.32156864, 0.95294124, 0.7568628 , 0.20000002,\n",
       "        0.        , 0.08235294, 0.36078432, 0.9921569 , 0.9960785 ,\n",
       "        0.9921569 , 0.40000004, 0.        , 0.        , 0.        ,\n",
       "        0.        , 0.        , 0.        , 0.        , 0.        ,\n",
       "        0.        , 0.        , 0.        ],\n",
       "       [0.        , 0.        , 0.        , 0.        , 0.        ,\n",
       "        0.        , 0.08235294, 0.8745099 , 0.9921569 , 0.909804  ,\n",
       "        0.7960785 , 0.8745099 , 0.9921569 , 0.98823535, 0.9921569 ,\n",
       "        0.67058825, 0.07843138, 0.        , 0.        , 0.        ,\n",
       "        0.        , 0.        , 0.        , 0.        , 0.        ,\n",
       "        0.        , 0.        , 0.        ],\n",
       "       [0.        , 0.        , 0.        , 0.        , 0.        ,\n",
       "        0.        , 0.        , 0.        , 1.        , 0.9921569 ,\n",
       "        1.        , 0.9921569 , 0.9960785 , 0.91372555, 0.5568628 ,\n",
       "        0.07843138, 0.        , 0.        , 0.        , 0.        ,\n",
       "        0.        , 0.        , 0.        , 0.        , 0.        ,\n",
       "        0.        , 0.        , 0.        ],\n",
       "       [0.        , 0.        , 0.        , 0.        , 0.        ,\n",
       "        0.        , 0.        , 0.        , 0.2784314 , 0.75294125,\n",
       "        0.9921569 , 0.98823535, 0.5921569 , 0.19607845, 0.        ,\n",
       "        0.        , 0.        , 0.        , 0.        , 0.        ,\n",
       "        0.        , 0.        , 0.        , 0.        , 0.        ,\n",
       "        0.        , 0.        , 0.        ],\n",
       "       [0.        , 0.        , 0.        , 0.        , 0.        ,\n",
       "        0.        , 0.        , 0.        , 0.        , 0.        ,\n",
       "        0.        , 0.        , 0.        , 0.        , 0.        ,\n",
       "        0.        , 0.        , 0.        , 0.        , 0.        ,\n",
       "        0.        , 0.        , 0.        , 0.        , 0.        ,\n",
       "        0.        , 0.        , 0.        ],\n",
       "       [0.        , 0.        , 0.        , 0.        , 0.        ,\n",
       "        0.        , 0.        , 0.        , 0.        , 0.        ,\n",
       "        0.        , 0.        , 0.        , 0.        , 0.        ,\n",
       "        0.        , 0.        , 0.        , 0.        , 0.        ,\n",
       "        0.        , 0.        , 0.        , 0.        , 0.        ,\n",
       "        0.        , 0.        , 0.        ]], dtype=float32)"
      ]
     },
     "execution_count": 7,
     "metadata": {},
     "output_type": "execute_result"
    }
   ],
   "source": [
    "# single image, just reshaped in [28, 28] matrix, actually it is in [784, 1] shape\n",
    "mnist.train.images[29].reshape([28,28])"
   ]
  },
  {
   "cell_type": "code",
   "execution_count": 8,
   "metadata": {
    "collapsed": false
   },
   "outputs": [
    {
     "data": {
      "image/png": "[encoded data removed]",
      "text/plain": [
       "<Figure size 432x288 with 1 Axes>"
      ]
     },
     "metadata": {},
     "output_type": "display_data"
    }
   ],
   "source": [
    "# a sample image displayed with imshow of pyplot\n",
    "_=plt.imshow(mnist.train.images[29].reshape([28,28]))"
   ]
  },
  {
   "cell_type": "code",
   "execution_count": 9,
   "metadata": {
    "collapsed": false
   },
   "outputs": [],
   "source": [
    "# defined number od classes/labels(10 in our case), number of features i.e. number of columns(784 here)\n",
    "num_classes = mnist.train.labels.shape[1]\n",
    "num_features = mnist.train.images.shape[1]\n",
    "num_output = mnist.train.labels.shape[1]\n",
    "\n",
    "x_train = mnist.train.images     # train data\n",
    "y_train = mnist.train.labels     # train labels\n",
    "x_test = mnist.test.images       # test data\n",
    "y_test = mnist.test.labels       # test labels\n",
    "\n",
    "num_layers_0 = 512      # number of neurons in hidden layer one.\n",
    "num_layers_1 = 256      # number of neurons in hidden layer one."
   ]
  },
  {
   "cell_type": "code",
   "execution_count": 10,
   "metadata": {
    "collapsed": false
   },
   "outputs": [],
   "source": [
    "# Place holders for X and Y\n",
    "input_x = tf.placeholder(tf.float32, shape=(None, num_features))\n",
    "input_y = tf.placeholder(tf.float32, shape=(None, num_classes))\n",
    "\n",
    "# this one is for droput layer\n",
    "keep_prob = tf.placeholder(tf.float32)"
   ]
  },
  {
   "cell_type": "code",
   "execution_count": 11,
   "metadata": {
    "collapsed": true
   },
   "outputs": [],
   "source": [
    "# Define weight W and bias b for input, hidden and output layer\n",
    "# weights_0 for input layer shape = [feature, layer_0]   =   [784, 512]\n",
    "weights_0 = tf.Variable(tf.truncated_normal(shape=[num_features, num_layers_0], mean=0.0, stddev=tf.sqrt(2.0/num_features)))\n",
    "\n",
    "bias_0 = tf.Variable(tf.random_normal(shape=[num_layers_0]))\n",
    "\n",
    "# weights_1 for hidden layer1 shape = [layer_0, layer_1]   =   [512, 256]\n",
    "weights_1 = tf.Variable(tf.truncated_normal(shape=[num_layers_0, num_layers_1], mean=0.0, stddev=tf.sqrt(2.0/num_layers_0)))\n",
    "bias_1 = tf.Variable(tf.random_normal(shape=[num_layers_1]))\n",
    "\n",
    "# weights_2 for hidden layer2 shape = [layer_1, class/out]   =   [256, 10]\n",
    "weights_2 = tf.Variable(tf.truncated_normal(shape=[num_layers_1, num_output], mean=0.0, stddev=tf.sqrt(2.0/num_layers_1)))\n",
    "bias_2 = tf.Variable(tf.random_normal(shape=[num_output]))"
   ]
  },
  {
   "cell_type": "code",
   "execution_count": 12,
   "metadata": {
    "collapsed": true
   },
   "outputs": [],
   "source": [
    "# Tensorflow's logit is defined as the output of a neuron without applying activation function: logit = w*x + b\n",
    "# for input and hidden layner1 we will use RELU as activation function.\n",
    "# for hidden layer2 i.e. last layer we will use sofmax as activation function and finally cross_entropy as loss/cost function.\n",
    "\n",
    "regularizer_rate = 0.0001\n",
    "\n",
    "# Input layer\n",
    "logit_0 = tf.matmul(input_x, weights_0) + bias_0\n",
    "input_layer_out = tf.nn.relu(features=logit_0)\n",
    "input_layer_dropout = tf.nn.dropout(x = input_layer_out, keep_prob=keep_prob)\n",
    "\n",
    "# hidden layer 1\n",
    "logit_1 = tf.matmul(input_layer_dropout, weights_1) + bias_1\n",
    "hidden_layer_1_out = tf.nn.relu(features=logit_1)\n",
    "hidden_layer_1_dropout = tf.nn.dropout(x=hidden_layer_1_out, keep_prob=keep_prob)\n",
    "\n",
    "# hidden layer 2\n",
    "logit_2 = tf.matmul(hidden_layer_1_dropout, weights_2) + bias_2\n",
    "\n",
    "# loss/cost function for output layer : softmax\n",
    "loss = tf.reduce_mean(tf.nn.softmax_cross_entropy_with_logits(logits=logit_2, labels=input_y))\n",
    "\n",
    "# L2 regulaaization\n",
    "regularizers  = tf.nn.l2_loss(weights_0) + tf.nn.l2_loss(weights_1) + tf.nn.l2_loss(weights_2)\n",
    "loss = tf.reduce_mean(loss + regularizer_rate* regularizers)\n",
    "\n",
    "# above L2 can also be used like below, both will give the same result.\n",
    "\n",
    "#loss = (tf.reduce_mean(tf.nn.softmax_cross_entropy_with_logits(logits=logit_2, labels=input_y) +\n",
    "#           regularizer_rate*(tf.nn.l2_loss(weights_0) + tf.nn.l2_loss(weights_1) + tf.nn.l2_loss(weights_2))))\n",
    "\n",
    "\n",
    "# y_pred is defined to predict the new image but logit_2 can directly be used, both will give the same result.\n",
    "y_pred = tf.nn.softmax(logits=logit_2)"
   ]
  },
  {
   "cell_type": "code",
   "execution_count": 13,
   "metadata": {
    "collapsed": false
   },
   "outputs": [],
   "source": [
    "# We will use Decaying learning rate\n",
    "starter_learning_rate = 0.001\n",
    "\n",
    "global_step = 0\n",
    "learning_rate = tf.train.exponential_decay(learning_rate=starter_learning_rate, global_step=global_step,   \n",
    "                                           decay_steps=5, decay_rate=0.85, staircase=True)\n",
    "\n",
    "# Optimizer : used AdamOptimizer, but GradientDescentOptimizer can also be used.\n",
    "optimizer = (tf.train.AdamOptimizer(learning_rate=learning_rate).   \n",
    "                minimize(loss=loss, var_list=[weights_0, weights_1, weights_2, bias_0, bias_1, bias_2]))\n",
    "#optimizer = tf.train.GradientDescentOptimizer(learning_rate).minimize(loss)"
   ]
  },
  {
   "cell_type": "code",
   "execution_count": 14,
   "metadata": {
    "collapsed": true
   },
   "outputs": [],
   "source": [
    "# Metrics definition to check the accuracy\n",
    "correct_prediction = tf.equal(tf.argmax(input_y,1), tf.argmax(y_pred,1))\n",
    "accuracy = tf.reduce_mean(tf.cast(correct_prediction, tf.float32))"
   ]
  },
  {
   "cell_type": "code",
   "execution_count": 15,
   "metadata": {
    "collapsed": false
   },
   "outputs": [
    {
     "name": "stdout",
     "output_type": "stream",
     "text": [
      "Epoch:0, Train loss: 0.19 Train acc: 0.954, Test acc:0.953\n",
      "Epoch:1, Train loss: 0.14 Train acc: 0.970, Test acc:0.968\n",
      "Epoch:2, Train loss: 0.12 Train acc: 0.978, Test acc:0.972\n",
      "Epoch:3, Train loss: 0.10 Train acc: 0.983, Test acc:0.975\n",
      "Epoch:4, Train loss: 0.10 Train acc: 0.985, Test acc:0.976\n",
      "Epoch:5, Train loss: 0.09 Train acc: 0.987, Test acc:0.978\n",
      "Epoch:6, Train loss: 0.09 Train acc: 0.990, Test acc:0.979\n",
      "Epoch:7, Train loss: 0.08 Train acc: 0.991, Test acc:0.980\n",
      "Epoch:8, Train loss: 0.08 Train acc: 0.992, Test acc:0.981\n",
      "Epoch:9, Train loss: 0.08 Train acc: 0.993, Test acc:0.981\n",
      "Epoch:10, Train loss: 0.08 Train acc: 0.994, Test acc:0.981\n",
      "Epoch:11, Train loss: 0.08 Train acc: 0.993, Test acc:0.981\n",
      "Epoch:12, Train loss: 0.08 Train acc: 0.994, Test acc:0.982\n",
      "Epoch:13, Train loss: 0.08 Train acc: 0.995, Test acc:0.982\n",
      "Epoch:14, Train loss: 0.07 Train acc: 0.995, Test acc:0.981\n",
      "Epoch:15, Train loss: 0.08 Train acc: 0.995, Test acc:0.983\n",
      "Epoch:16, Train loss: 0.08 Train acc: 0.995, Test acc:0.981\n",
      "Epoch:17, Train loss: 0.07 Train acc: 0.995, Test acc:0.982\n"
     ]
    }
   ],
   "source": [
    "## Training parameters\n",
    "from sklearn.metrics import roc_auc_score, accuracy_score\n",
    "\n",
    "batch_size = 128\n",
    "epochs=18\n",
    "dropout_prob = 0.6\n",
    "training_accuracy = []\n",
    "training_loss = []\n",
    "testing_accuracy = []\n",
    "\n",
    "# define interactive tensorflow session\n",
    "sess = tf.Session()\n",
    "\n",
    "# initialize all the variables.\n",
    "init = tf.global_variables_initializer()\n",
    "sess.run(init)\n",
    "\n",
    "for epoch in range(epochs):\n",
    "    \n",
    "    arr = np.arange(x_train.shape[0])\n",
    "    np.random.shuffle(arr)\n",
    "    for index in range(0, x_train.shape[0], batch_size):\n",
    "        sess.run(optimizer, feed_dict={input_x: x_train[arr[index:index+batch_size]],input_y: y_train[arr[index:index+batch_size]], keep_prob:dropout_prob})\n",
    "                          \n",
    "                        \n",
    "    training_accuracy.append(sess.run(accuracy, feed_dict= {input_x : x_train, input_y: y_train, keep_prob:1}))\n",
    "                                                         \n",
    "    training_loss.append(sess.run(loss, feed_dict= {input_x : x_train, input_y: y_train, keep_prob:1}))\n",
    "                                      \n",
    "    \n",
    "    testing_accuracy.append(sess.run(accuracy, feed_dict= {input_x : x_test, input_y: y_test, keep_prob:1}))\n",
    "    #testing_accuracy.append(accuracy_score(y_test.argmax(1), sess.run(logit_2, {input_x: x_test,keep_prob:1}).argmax(1)))\n",
    "                            \n",
    "    print(\"Epoch:{0}, Train loss: {1:.2f} Train acc: {2:.3f}, Test acc:{3:.3f}\".format(epoch,\n",
    "                                                                    training_loss[epoch],\n",
    "                                                                    training_accuracy[epoch],\n",
    "                                                                    testing_accuracy[epoch]))"
   ]
  },
  {
   "cell_type": "code",
   "execution_count": 16,
   "metadata": {
    "collapsed": false
   },
   "outputs": [
    {
     "data": {
      "image/png": "[encoded data removed]",
      "text/plain": [
       "<Figure size 432x288 with 1 Axes>"
      ]
     },
     "metadata": {},
     "output_type": "display_data"
    }
   ],
   "source": [
    "_=plt.imshow(mnist.test.images[456].reshape(28,28))"
   ]
  },
  {
   "cell_type": "code",
   "execution_count": 17,
   "metadata": {
    "collapsed": false
   },
   "outputs": [
    {
     "data": {
      "text/plain": [
       "array([2])"
      ]
     },
     "execution_count": 17,
     "metadata": {},
     "output_type": "execute_result"
    }
   ],
   "source": [
    "# predict using logit_2, it has not used softmax\n",
    "sess.run(tf.argmax(logit_2,1), feed_dict={input_x: mnist.test.images[456].reshape(1,784), keep_prob:1.0})"
   ]
  },
  {
   "cell_type": "code",
   "execution_count": 18,
   "metadata": {
    "collapsed": false
   },
   "outputs": [
    {
     "data": {
      "text/plain": [
       "array([[-5.615129 ,  3.2794614,  5.9445357, -1.5244792, -7.455546 ,\n",
       "        -4.18843  , -4.527604 ,  0.5238282, -1.7476772, -8.185882 ]],\n",
       "      dtype=float32)"
      ]
     },
     "execution_count": 18,
     "metadata": {},
     "output_type": "execute_result"
    }
   ],
   "source": [
    "sess.run(logit_2, feed_dict={input_x: mnist.test.images[456].reshape(1,784), keep_prob: 1.0})"
   ]
  },
  {
   "cell_type": "code",
   "execution_count": 19,
   "metadata": {
    "collapsed": false
   },
   "outputs": [
    {
     "data": {
      "text/plain": [
       "array([2])"
      ]
     },
     "execution_count": 19,
     "metadata": {},
     "output_type": "execute_result"
    }
   ],
   "source": [
    "# predict using softmax, both will give the same result\n",
    "sess.run(tf.argmax(y_pred,1), feed_dict={input_x: mnist.test.images[456].reshape(1,784), keep_prob:1.0})"
   ]
  },
  {
   "cell_type": "code",
   "execution_count": 20,
   "metadata": {
    "collapsed": false,
    "scrolled": true
   },
   "outputs": [
    {
     "data": {
      "text/plain": [
       "array([[8.8765146e-06, 6.4731248e-02, 9.3012440e-01, 5.3062657e-04,\n",
       "        1.4091576e-06, 3.6970068e-05, 2.6335932e-05, 4.1148840e-03,\n",
       "        4.2447817e-04, 6.7885804e-07]], dtype=float32)"
      ]
     },
     "execution_count": 20,
     "metadata": {},
     "output_type": "execute_result"
    }
   ],
   "source": [
    "sess.run(y_pred, feed_dict={input_x: mnist.test.images[456].reshape(1,784), keep_prob: 1.0})"
   ]
  },
  {
   "cell_type": "code",
   "execution_count": 23,
   "metadata": {
    "collapsed": false
   },
   "outputs": [
    {
     "name": "stdout",
     "output_type": "stream",
     "text": [
      "Train Accuracy: 1.00\n",
      "Test Accuracy:0.98\n"
     ]
    },
    {
     "data": {
      "image/png": "[encoded data removed]",
      "text/plain": [
       "<Figure size 576x432 with 1 Axes>"
      ]
     },
     "metadata": {},
     "output_type": "display_data"
    }
   ],
   "source": [
    "# Plotting chart of training and testing accuracy as a function of iterations\n",
    "\n",
    "iterations = list(range(epochs))\n",
    "plt.figure(figsize=(8,6))\n",
    "plt.plot(iterations, training_accuracy, label='Train')\n",
    "plt.plot(iterations, testing_accuracy, label='Test')\n",
    "plt.ylabel('Accuracy')\n",
    "plt.xlabel('iterations')\n",
    "plt.legend()\n",
    "print(\"Train Accuracy: {0:.2f}\".format(training_accuracy[-1]))\n",
    "print(\"Test Accuracy:{0:.2f}\".format(testing_accuracy[-1]))"
   ]
  },
  {
   "cell_type": "code",
   "execution_count": null,
   "metadata": {
    "collapsed": true
   },
   "outputs": [],
   "source": []
  }
 ],
 "metadata": {
  "kernelspec": {
   "display_name": "Python [conda env:python3]",
   "language": "python",
   "name": "conda-env-python3-py"
  },
  "language_info": {
   "codemirror_mode": {
    "name": "ipython",
    "version": 3
   },
   "file_extension": ".py",
   "mimetype": "text/x-python",
   "name": "python",
   "nbconvert_exporter": "python",
   "pygments_lexer": "ipython3",
   "version": "3.5.5"
  }
 },
 "nbformat": 4,
 "nbformat_minor": 2
}
